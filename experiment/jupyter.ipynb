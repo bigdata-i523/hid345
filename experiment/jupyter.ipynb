{
 "cells": [
  {
   "cell_type": "code",
   "execution_count": null,
   "metadata": {
    "collapsed": true
   },
   "outputs": [],
   "source": [
    "API_KEY = \"\"\n",
    "API_SECRET = \"\"\n",
    "\n",
    "import tweepy\n",
    "import pandas as pd\n",
    "\n",
    "auth = tweepy.AppAuthHandler(API_KEY, API_SECRET)\n",
    "api = tweepy.API(auth, wait_on_rate_limit=True, wait_on_rate_limit_notify=True)\n",
    "\n",
    "tweets = []\n",
    "\n",
    "for status in tweepy.Cursor(api.user_timeline, id=\"DCComics\").items(500):\n",
    "    tweets.append((status.text, 0))\n",
    "    \n",
    "for status in tweepy.Cursor(api.user_timeline, id=\"Marvel\").items(500):\n",
    "    tweets.append((status.text, 1)) \n",
    " \n",
    "df = pd.DataFrame(tweets)"
   ]
  },
  {
   "cell_type": "code",
   "execution_count": null,
   "metadata": {
    "collapsed": true
   },
   "outputs": [],
   "source": [
    "FILE_PATH = 'C:/Users/comics.csv'\n",
    "df.to_csv(FILE_PATH)"
   ]
  },
  {
   "cell_type": "markdown",
   "metadata": {},
   "source": [
    "In this example, I used a twitter scraper to gather 1000 tweets from competeing organizations. We can then take this data and, using pandas, convert it to a pandas dataframe. Once we convert our data into a pandas dataframe, it is now represented in tabular form that we can work with. Working with rows and columns is much easier than working with garbled data. Pandas can also convert your data into CSV format."
   ]
  }
 ],
 "metadata": {
  "kernelspec": {
   "display_name": "Python 3",
   "language": "python",
   "name": "python3"
  },
  "language_info": {
   "codemirror_mode": {
    "name": "ipython",
    "version": 3
   },
   "file_extension": ".py",
   "mimetype": "text/x-python",
   "name": "python",
   "nbconvert_exporter": "python",
   "pygments_lexer": "ipython3",
   "version": "3.6.1"
  }
 },
 "nbformat": 4,
 "nbformat_minor": 2
}
